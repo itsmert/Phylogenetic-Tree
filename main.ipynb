{
 "cells": [
  {
   "cell_type": "markdown",
   "id": "de82be35-538d-471e-a2e8-0e7694b3c448",
   "metadata": {
    "deletable": false,
    "editable": false,
    "nbgrader": {
     "cell_type": "markdown",
     "checksum": "859ac734f9a8adde8530df5b1a8b70fa",
     "grade": false,
     "grade_id": "cell-275d3aba54182592",
     "locked": true,
     "schema_version": 3,
     "solution": false,
     "task": false
    }
   },
   "source": [
    "### <span style=\"background-color: #444; color: white; padding: 5px; padding-left: 10px; padding-right: 10px; margin-top: 00px; margin-bottom: 10px; border-radius: 7px;\">INSTRUCTIONS</span>"
   ]
  },
  {
   "cell_type": "markdown",
   "id": "08e4c19f-89e2-41bc-9398-0f2dac1bc1a5",
   "metadata": {
    "tags": []
   },
   "source": [
    "\n",
    "\n",
    "## Overview\n",
    "\n",
    "\n",
    "***UPGMA (Unweighted Pair Group Method with Arithmetic Mean)***\n",
    "\n",
    "UPGMA is a hierarchical clustering algorithm used for constructing phylogenetic trees. It is commonly employed to understand and visualize the evolutionary relationships between biological sequences. The fundamental principle of UPGMA is to estimate the evolutionary time between species based on the pairwise distances of their sequences.\n",
    "\n",
    "Basic Principles of UPGMA\n",
    "UPGMA iteratively merges the closest pair of clusters until all species are grouped under a single root. The algorithm involves the following steps:\n",
    "\n",
    "- Initial State: Each species starts as its own cluster.\n",
    "- Distance Matrix: A matrix of distances between species is created, typically based on sequence differences.\n",
    "- Cluster Merging: The two clusters with the smallest distance are found and merged.\n",
    "- Distance Matrix Update: The distances between the newly formed cluster and the remaining clusters are recalculated and the matrix is updated.\n",
    "- Iteration: Steps 3 and 4 are repeated until all clusters are merged into a single root."
   ]
  },
  {
   "cell_type": "code",
   "execution_count": null,
   "id": "d4f5a478-6a5a-47e3-8fc9-d2156e490dbe",
   "metadata": {
    "tags": []
   },
   "outputs": [],
   "source": [
    "##First of all we ensure that which libraries will be use in our UPGMA algorithm.\n",
    "\n",
    "import matplotlib.pyplot as plt\n",
    "import numpy as np\n",
    "import pandas as pd\n",
    "from scipy.cluster.hierarchy import linkage, dendrogram"
   ]
  },
  {
   "cell_type": "code",
   "execution_count": null,
   "id": "30cf93a7-cdd6-4470-86ad-4dd87b967805",
   "metadata": {
    "tags": []
   },
   "outputs": [],
   "source": [
    "#Then we need to provide our testing Cases which is related\n",
    "if __name__ == \"__main__\":\n",
    "    # Provided sequences\n",
    "    sequences = [\n",
    "        (\"Species1\", \"AGAGGGTGAT\"),\n",
    "        (\"Species2\", \"CTGCGATTTA\"),\n",
    "        (\"Species3\", \"GACCGTTAAC\"), #Test inputs\n",
    "        (\"Species4\", \"TCAAGTACCT\"),\n",
    "        (\"Species5\", \"TGCACGACAT\")\n",
    "    ]"
   ]
  },
  {
   "cell_type": "code",
   "execution_count": null,
   "id": "7b212e33-2cbf-435f-8341-6ad8b361d79b",
   "metadata": {
    "tags": []
   },
   "outputs": [],
   "source": [
    "# Step 1: Create a Dummy Alignment (Here, we just use the sequences directly)\n",
    "def dummy_allignment_creation(sequences):\n",
    "    return sequences  "
   ]
  },
  {
   "cell_type": "code",
   "execution_count": null,
   "id": "349b8c32-5c49-4363-84ef-6098d1bb194c",
   "metadata": {
    "tags": []
   },
   "outputs": [
    {
     "name": "stdout",
     "output_type": "stream",
     "text": [
      "\n",
      "Alignment:\n",
      "Species1: AGAGGGTGAT\n",
      "Species2: CTGCGATTTA\n",
      "Species3: GACCGTTAAC\n",
      "Species4: TCAAGTACCT\n",
      "Species5: TGCACGACAT\n"
     ]
    }
   ],
   "source": [
    "    # Create a dummy alignment from the sample sequences\n",
    "    alignment = dummy_allignment_creation(sequences)  # Create multiple sequence alignment\n",
    "    print(\"\\nAlignment:\")\n",
    "    for seq in alignment:\n",
    "        print(f\"{seq[0]}: {seq[1]}\")  # Print the alignment"
   ]
  },
  {
   "cell_type": "code",
   "execution_count": null,
   "id": "c6ee86c9-d7b5-41fb-9415-1c169d25e653",
   "metadata": {
    "tags": []
   },
   "outputs": [],
   "source": [
    "# Step 2: Calculation for distance matrix based on UPGMA\n",
    "def computation_for_sequences_matrix(sequences):\n",
    "    num_sequences = len(sequences)\n",
    "    distance_matrix = np.zeros((num_sequences, num_sequences))  #First of all we need too initialize our matrix with related 0\n",
    "\n",
    "    for i in range(num_sequences):\n",
    "        for j in range(i + 1, num_sequences):\n",
    "            seq1 = sequences[i][1]      #Then we define based on sequences we add in our matrix with column and both row\n",
    "            seq2 = sequences[j][1]\n",
    "            distance = sum(1 for a, b in zip(seq1, seq2) if a != b)  #We now that we need to calculation with differences between related two sequences their DNA molecules\n",
    "            distance_matrix[i, j] = distance_matrix[j, i] = distance #and update related matrix to distance\n",
    "\n",
    "    return distance_matrix "
   ]
  },
  {
   "cell_type": "code",
   "execution_count": null,
   "id": "4e6686c7-3838-48b9-b773-a0803efee2fc",
   "metadata": {
    "tags": []
   },
   "outputs": [
    {
     "name": "stdout",
     "output_type": "stream",
     "text": [
      "\n",
      "Distance Matrix:\n",
      "          Species1  Species2  Species3  Species4  Species5\n",
      "Species1       0.0       8.0       7.0       7.0       6.0\n",
      "Species2       8.0       0.0       7.0       9.0      10.0\n",
      "Species3       7.0       7.0       0.0       8.0       8.0\n",
      "Species4       7.0       9.0       8.0       0.0       5.0\n",
      "Species5       6.0      10.0       8.0       5.0       0.0\n"
     ]
    }
   ],
   "source": [
    "    # Calculate the distance matrix\n",
    "    distance_matrix = computation_for_sequences_matrix(alignment)  # Calculate distance matrix\n",
    "    print(\"\\nDistance Matrix:\")\n",
    "    print(pd.DataFrame(distance_matrix, index=[seq[0] for seq in sequences], columns=[seq[0] for seq in sequences]))  # Print the distance matrix\n"
   ]
  },
  {
   "cell_type": "code",
   "execution_count": null,
   "id": "f4b49011-5faa-484b-9d36-970c46305097",
   "metadata": {
    "tags": []
   },
   "outputs": [],
   "source": [
    "# Step 3 We Merged them tehir clusters in here \n",
    "def create_phylogenetic_tree(distance_matrix, method='average'):\n",
    "    # We both checked as we know [Matrix will be like held mirror so we calculate triangle of right side in our upgma]\n",
    "    upper_triangle_indices = np.triu_indices_from(distance_matrix, 1)\n",
    "    condensed_matrix = distance_matrix[upper_triangle_indices]\n",
    "    #When we define that we need to linked between our clusters \n",
    "    linkage_matrix = linkage(condensed_matrix, method=method)\n",
    "    #Then as we known that when we calculate between two cluster our distance will be need to divided to 2 because of we need to calculate for each by each\n",
    "    linkage_matrix[:, 2] /= 2\n",
    "    return linkage_matrix"
   ]
  },
  {
   "cell_type": "code",
   "execution_count": null,
   "id": "945acb0f-fb55-44ee-a078-168951bbc22d",
   "metadata": {
    "tags": []
   },
   "outputs": [],
   "source": [
    "# Step 4: We preferd to visualize our that clusters related to our calculation\n",
    "def visualization_matrix_phylogenetic_tree(linkage_matrix, title, sequences):\n",
    "    fig, ax = plt.subplots(figsize=(10, 6))  #As we given our sequence we have 10 line so it is satisfies\n",
    "    dendro = dendrogram(linkage_matrix, labels=[seq[0] for seq in sequences], ax=ax, leaf_rotation=90,leaf_font_size=10)  #plotting to our diagram related our calculation above usage linked_matrix\n",
    "    plt.title(title)  \n",
    "    plt.show()  #display\n",
    "\n",
    "    return dendro"
   ]
  },
  {
   "cell_type": "code",
   "execution_count": null,
   "id": "16eb3d71-aa36-4528-82fa-1adfa1642b86",
   "metadata": {
    "tags": []
   },
   "outputs": [],
   "source": [
    "# Step 5: Describe UPGMA Tree Construction\n",
    "def upgma_creation(distance_matrix, sequences):\n",
    "    num_sequences = len(sequences)      #We get to details from our number of sequences\n",
    "    labels = [seq[0] for seq in sequences]       #And we know that each label will be hold in our matrix\n",
    "    clusters = [[label] for label in labels] # we got our cluster in that each related label\n",
    "    current_dist_matrix = distance_matrix.copy() #We copy our that our matrix to make for preparation to upgma tree build\n",
    "\n",
    "    print(\"\\nUPGMA Tree Construction Steps:\\n\")\n",
    "    while len(clusters) > 1:\n",
    "\n",
    "        min_dist = np.inf #As we know that we check that our clusters in that matrix and need to find that minimum value when we find that our min value we need to make cluster between\n",
    "        for i in range(len(current_dist_matrix)): #row and column related our cluster pair then this code line make that all iteration to till making all sequences\n",
    "            for j in range(i + 1, len(current_dist_matrix)):\n",
    "                if current_dist_matrix[i, j] < min_dist:\n",
    "                    min_dist = current_dist_matrix[i, j]\n",
    "                    cluster_pair = (i, j)\n",
    "\n",
    "        i, j = cluster_pair\n",
    "        print(f\"Merge clusters {clusters[i]} and {clusters[j]} with distance {min_dist}\\n\")\n",
    "\n",
    "        new_cluster = clusters[i] + clusters[j] #Merged with two clusters\n",
    "        clusters.append(new_cluster) \n",
    "        print(f\"New cluster formed: {new_cluster}\\n\")\n",
    "        new_distances = []\n",
    "        for k in range(len(current_dist_matrix)):           #In here we apply that our new distance so we first of all update our matrix after clustering\n",
    "            if k != i and k != j:\n",
    "                new_distance = (current_dist_matrix[i, k] + current_dist_matrix[j, k]) / 2\n",
    "                new_distances.append(new_distance)\n",
    "        new_dist_matrix = np.zeros((len(current_dist_matrix) - 1, len(current_dist_matrix) - 1))  #We know that when we cluster each pair our matrix will be decrease -1 for row -1 for column\n",
    "        new_dist_matrix[:-1, :-1] = np.delete(np.delete(current_dist_matrix, (i, j), axis=0), (i, j), axis=1)\n",
    "        if new_distances:  # As I declare above this is iteration to till 0\n",
    "            new_dist_matrix[-1, :-1] = new_dist_matrix[:-1, -1] = new_distances\n",
    "\n",
    "        #We added to proof to our iteration to like this using that pandas library \n",
    "        df = pd.DataFrame(new_dist_matrix, index=[str(cl) for cl in clusters[-len(new_dist_matrix):]], columns=[str(cl) for cl in clusters[-len(new_dist_matrix):]])\n",
    "        print(f\"Updated Distance Matrix after merging {new_cluster}:\\n\")\n",
    "        print(df.to_string(index=False), \"\\n\")  #we need to clarify to using data frame format\n",
    "        current_dist_matrix = new_dist_matrix\n",
    "        clusters.pop(max(i, j))\n",
    "        clusters.pop(min(i, j))\n",
    "\n",
    "    print(\"Final cluster:\", clusters[0])"
   ]
  },
  {
   "cell_type": "code",
   "execution_count": null,
   "id": "33a0de07-c0a7-4b26-8421-38040afa09d2",
   "metadata": {
    "tags": []
   },
   "outputs": [
    {
     "name": "stdout",
     "output_type": "stream",
     "text": [
      "\n",
      "UPGMA Tree Construction Steps:\n",
      "\n",
      "Merge clusters ['Species4'] and ['Species5'] with distance 5.0\n",
      "\n",
      "New cluster formed: ['Species4', 'Species5']\n",
      "\n",
      "Updated Distance Matrix after merging ['Species4', 'Species5']:\n",
      "\n",
      " ['Species3']  ['Species4']  ['Species5']  ['Species4', 'Species5']\n",
      "          0.0           8.0           7.0                       6.5\n",
      "          8.0           0.0           7.0                       9.5\n",
      "          7.0           7.0           0.0                       8.0\n",
      "          6.5           9.5           8.0                       0.0 \n",
      "\n",
      "Merge clusters ['Species1'] and ['Species4', 'Species5'] with distance 6.5\n",
      "\n",
      "New cluster formed: ['Species1', 'Species4', 'Species5']\n",
      "\n",
      "Updated Distance Matrix after merging ['Species1', 'Species4', 'Species5']:\n",
      "\n",
      " ['Species3']  ['Species4', 'Species5']  ['Species1', 'Species4', 'Species5']\n",
      "         0.00                       7.0                                  8.75\n",
      "         7.00                       0.0                                  7.50\n",
      "         8.75                       7.5                                  0.00 \n",
      "\n",
      "Merge clusters ['Species2'] and ['Species3'] with distance 7.0\n",
      "\n",
      "New cluster formed: ['Species2', 'Species3']\n",
      "\n",
      "Updated Distance Matrix after merging ['Species2', 'Species3']:\n",
      "\n",
      " ['Species1', 'Species4', 'Species5']  ['Species2', 'Species3']\n",
      "                                0.000                     8.125\n",
      "                                8.125                     0.000 \n",
      "\n",
      "Merge clusters ['Species1', 'Species4', 'Species5'] and ['Species2', 'Species3'] with distance 8.125\n",
      "\n",
      "New cluster formed: ['Species1', 'Species4', 'Species5', 'Species2', 'Species3']\n",
      "\n",
      "Updated Distance Matrix after merging ['Species1', 'Species4', 'Species5', 'Species2', 'Species3']:\n",
      "\n",
      " ['Species1', 'Species4', 'Species5', 'Species2', 'Species3']\n",
      "                                                          0.0 \n",
      "\n",
      "Final cluster: ['Species1', 'Species4', 'Species5', 'Species2', 'Species3']\n",
      "\n",
      "UPGMA Tree:\n"
     ]
    },
    {
     "data": {
      "image/png": "[encoded data removed]",
      "text/plain": [
       "<Figure size 1000x600 with 1 Axes>"
      ]
     },
     "metadata": {},
     "output_type": "display_data"
    },
    {
     "data": {
      "text/plain": [
       "{'icoord': [[15.0, 15.0, 25.0, 25.0],\n",
       "  [5.0, 5.0, 20.0, 20.0],\n",
       "  [35.0, 35.0, 45.0, 45.0],\n",
       "  [12.5, 12.5, 40.0, 40.0]],\n",
       " 'dcoord': [[0.0, 2.5, 2.5, 0.0],\n",
       "  [0.0, 3.25, 3.25, 2.5],\n",
       "  [0.0, 3.5, 3.5, 0.0],\n",
       "  [3.25, 4.166666666666667, 4.166666666666667, 3.5]],\n",
       " 'ivl': ['Species1', 'Species4', 'Species5', 'Species2', 'Species3'],\n",
       " 'leaves': [0, 3, 4, 1, 2],\n",
       " 'color_list': ['C1', 'C0', 'C0', 'C0'],\n",
       " 'leaves_color_list': ['C0', 'C1', 'C1', 'C0', 'C0']}"
      ]
     },
     "execution_count": 22,
     "metadata": {},
     "output_type": "execute_result"
    }
   ],
   "source": [
    "    # Describe UPGMA Tree Construction\n",
    "    upgma_creation(distance_matrix, sequences)  # Describe the UPGMA tree construction\n",
    "\n",
    "    # Construct the UPGMA tree\n",
    "    upgma_tree = create_phylogenetic_tree(distance_matrix, method='average')  # Construct UPGMA tree\n",
    "    print(\"\\nUPGMA Tree:\")\n",
    "    visualization_matrix_phylogenetic_tree(upgma_tree, \"UPGMA Tree\", sequences)  # Plot the UPGMA tree"
   ]
  },
  {
   "cell_type": "markdown",
   "id": "0e05dcc0-9c91-4ed2-85a2-9f4077a6673a",
   "metadata": {},
   "source": [
    "## END OF TO THE UPGMA\n"
   ]
  },
  {
   "cell_type": "markdown",
   "id": "e332efac-1919-4eb7-9fb6-b23fc0a43bfa",
   "metadata": {},
   "source": [
    "# Overview\n",
    "\n",
    "**Neighbor Joining (NJ)**\n",
    "\n",
    "Neighbor Joining (NJ) is a method originally developed for inferring unrooted phylogenetic trees. Unlike some other methods, NJ does not assume constant mutation rates across different lineages, making it versatile for various evolutionary scenario.\n",
    "\n",
    "- Unrooted Trees: NJ was designed to create unrooted trees, but with some modifications, it can produce rooted trees by adding a root at the midpoint of the longest distance connecting two leaves.\n",
    "\n",
    "- Flexibility in Tree Structure: NJ is capable of generating trees without assuming constant mutation rates, accommodating different evolutionary rates among lineages.\n",
    "\n",
    "- Cluster Selection: A significant distinction between NJ and UPGMA (Unweighted Pair Group Method with Arithmetic Mean) is how clusters are selected for merging. NJ considers not only the distances between clusters but also aims to select cluster pairs with nodes that are far apart from others.\n",
    "\n",
    "- Distance Matrix Preprocessing: To facilitate this, the original distance matrix \n",
    "$$\n",
    "Q_{ij} = (n − 2) D_{ij} − \\sum_{k=1}^{n} D_{ik} − \\sum_{k=1}^{n} D_{jk}\n",
    "$$\n",
    "\n",
    "- Cluster Merging: Clusters to be merged are selected based on a trade-off, prioritizing pairs of nodes with the shortest distance among themselves and large distances from other clusters.\n",
    "\n",
    "- Matrix Recalculation: After each merging step, the distance matrix calculate the matrix again.\n",
    "$$\n",
    "D_{ui} = \\dfrac{1}{2} \\left( D_{ai} + D_{bi} − D_{ab} \\right)\n",
    "$$\n",
    "\n",
    "\n",
    "\n",
    "\n"
   ]
  },
  {
   "cell_type": "code",
   "execution_count": null,
   "id": "60ccf180-f4ea-4cfa-a03d-9073b0947e77",
   "metadata": {
    "tags": []
   },
   "outputs": [],
   "source": [
    "##First of all we ensure that which libraries will be use in our Neighborjoining algorithm.\n",
    "\n",
    "import numpy as np\n",
    "import pandas as pd\n",
    "import networkx as nx\n",
    "import matplotlib.pyplot as plt\n"
   ]
  },
  {
   "cell_type": "code",
   "execution_count": null,
   "id": "6420ff5b-edda-4bd8-b838-388c66d1af10",
   "metadata": {
    "tags": []
   },
   "outputs": [],
   "source": [
    "# Example sequences\n",
    "sequences = {\n",
    "    \"Species1\": \"AGAGGGTGAT\",\n",
    "    \"Species2\": \"CTGCGATTTA\",\n",
    "    \"Species3\": \"GACCGTTAAC\",\n",
    "    \"Species4\": \"TCAAGTACCT\",\n",
    "    \"Species5\": \"TGCACGACAT\"\n",
    "}\n"
   ]
  },
  {
   "cell_type": "code",
   "execution_count": null,
   "id": "33e1b3f0-fc66-44e7-9869-7cc2770a34fd",
   "metadata": {
    "tags": []
   },
   "outputs": [],
   "source": [
    "def calculate_distance_matrix(sequences):\n",
    "    \"\"\"\n",
    "    Calculate the pairwise Hamming distance between sequences.\n",
    "    This function returns a distance matrix where each element (i, j) \n",
    "    represents the number of differing positions between sequences i and j.\n",
    "    \"\"\"\n",
    "    species = list(sequences.keys())\n",
    "    seqs = list(sequences.values())\n",
    "    distance_matrix = np.zeros((len(species), len(species)))\n",
    "    \n",
    "    for i in range(len(seqs)):\n",
    "        for j in range(i+1, len(seqs)):\n",
    "            # Calculate the Hamming distance between sequences i and j\n",
    "            distance = sum(seq1 != seq2 for seq1, seq2 in zip(seqs[i], seqs[j]))\n",
    "            distance_matrix[i, j] = distance\n",
    "            distance_matrix[j, i] = distance  # Distance matrix is symmetric\n",
    "    \n",
    "    return pd.DataFrame(distance_matrix, index=species, columns=species)\n"
   ]
  },
  {
   "cell_type": "code",
   "execution_count": null,
   "id": "70c0aff5-d16e-4df7-a44c-ed851e1aee49",
   "metadata": {
    "tags": []
   },
   "outputs": [],
   "source": [
    "# Generate distance matrix from sequences\n",
    "species = list(sequences.keys())\n",
    "distance_matrix = calculate_distance_matrix(sequences)"
   ]
  },
  {
   "cell_type": "code",
   "execution_count": null,
   "id": "b3138ecd-c25f-42cb-aec5-1dd483782522",
   "metadata": {
    "tags": []
   },
   "outputs": [],
   "source": [
    "def calculate_net_divergence(distance_matrix):\n",
    "    \"\"\"\n",
    "    Calculate the net divergence for each node. \n",
    "    Net divergence for a node is the average distance to all other nodes.\n",
    "    \"\"\"\n",
    "    L = len(distance_matrix)\n",
    "    net_divergence = {}\n",
    "    for i in range(L):\n",
    "        net_divergence[i] = np.sum(distance_matrix[i]) / (L - 2)\n",
    "    return net_divergence"
   ]
  },
  {
   "cell_type": "code",
   "execution_count": null,
   "id": "75f8f60a-b504-4e71-a537-d2460aeae381",
   "metadata": {
    "tags": []
   },
   "outputs": [],
   "source": [
    "def calculate_adjusted_distances(distance_matrix, net_divergence):\n",
    "    \"\"\"\n",
    "    Calculate the adjusted distances using the net divergence.\n",
    "    Adjusted distance between nodes i and j is the original distance\n",
    "    minus the net divergence of both nodes.\n",
    "    \"\"\"\n",
    "    L = len(distance_matrix)\n",
    "    adjusted_distances = np.zeros((L, L))\n",
    "    for i in range(L):\n",
    "        for j in range(i+1, L):\n",
    "            adjusted_distances[i, j] = distance_matrix[i, j] - (net_divergence[i] + net_divergence[j])\n",
    "            adjusted_distances[j, i] = adjusted_distances[i, j]\n",
    "    return adjusted_distances"
   ]
  },
  {
   "cell_type": "code",
   "execution_count": null,
   "id": "e863fcef-209b-4f96-acb6-f5d0015ad737",
   "metadata": {
    "tags": []
   },
   "outputs": [],
   "source": [
    "def update_distance_matrix(distance_matrix, i, j):\n",
    "    \"\"\"\n",
    "    Update the distance matrix by removing nodes i and j and adding a new node.\n",
    "    The new node represents the cluster formed by merging nodes i and j.\n",
    "    \"\"\"\n",
    "    L = len(distance_matrix)\n",
    "    new_distance_matrix = np.zeros((L-1, L-1))\n",
    "    new_node_distances = []\n",
    "    for k in range(L):\n",
    "        if k != i and k != j:\n",
    "            # Calculate the new distances to the merged node\n",
    "            new_distance = (distance_matrix[i, k] + distance_matrix[j, k] - distance_matrix[i, j]) / 2\n",
    "            new_node_distances.append(new_distance)\n",
    "    new_index = 0\n",
    "    for k in range(L):\n",
    "        if k == i or k == j:\n",
    "            continue\n",
    "        old_index = 0\n",
    "        for l in range(L):\n",
    "            if l == i or l == j:\n",
    "                continue\n",
    "            new_distance_matrix[new_index, old_index] = distance_matrix[k, l]\n",
    "            new_distance_matrix[old_index, new_index] = distance_matrix[l, k]\n",
    "            old_index += 1\n",
    "        new_index += 1\n",
    "\n",
    "    for m in range(len(new_node_distances)):\n",
    "        new_distance_matrix[-1, m] = new_node_distances[m]\n",
    "        new_distance_matrix[m, -1] = new_node_distances[m]\n",
    "\n",
    "    return new_distance_matrix"
   ]
  },
  {
   "cell_type": "code",
   "execution_count": null,
   "id": "4a1735b7-525f-4f2e-9929-fd5c92582eb8",
   "metadata": {
    "tags": []
   },
   "outputs": [],
   "source": [
    "def neighbor_joining(distance_matrix):\n",
    "    \"\"\"\n",
    "    Perform the Neighbor Joining algorithm to build a phylogenetic tree.\n",
    "    This function returns a NetworkX graph representing the tree.\n",
    "    \"\"\"\n",
    "    G = nx.Graph()\n",
    "    nodes = list(range(len(distance_matrix)))\n",
    "    step = 1\n",
    "    while len(distance_matrix) > 2:\n",
    "        print(f\"Step {step}:\")\n",
    "        print(\"Current Distance Matrix:\")\n",
    "        print(pd.DataFrame(distance_matrix))\n",
    "        \n",
    "        net_divergence = calculate_net_divergence(distance_matrix)\n",
    "        adjusted_distances = calculate_adjusted_distances(distance_matrix, net_divergence)\n",
    "        print(\"Net Divergence:\")\n",
    "        print(net_divergence)\n",
    "        print(\"Adjusted Distances:\")\n",
    "        print(pd.DataFrame(adjusted_distances))\n",
    "\n",
    "        # Find the pair of nodes with the smallest adjusted distance\n",
    "        i, j = np.unravel_index(np.argmin(adjusted_distances + np.eye(len(adjusted_distances)) * np.max(adjusted_distances)), adjusted_distances.shape)\n",
    "        \n",
    "        new_node = max(nodes) + 1\n",
    "        G.add_node(new_node)\n",
    "        # Calculate heights\n",
    "        height_i = (distance_matrix[i, j] + net_divergence[i] - net_divergence[j]) / 2\n",
    "        height_j = (distance_matrix[i, j] + net_divergence[j] - net_divergence[i]) / 2\n",
    "        # Add edges from the new node to the nodes i and j\n",
    "        G.add_edge(nodes[i], new_node, weight=round(height_i, 2))\n",
    "        G.add_edge(nodes[j], new_node, weight=round(height_j, 2))\n",
    "        print(f\"Calculating height for new node:\")\n",
    "        print(f\"Height of node {nodes[i]} to new node: ({distance_matrix[i, j]} + {net_divergence[i]} - {net_divergence[j]}) / 2 = {round(height_i, 2)}\")\n",
    "        print(f\"Height of node {nodes[j]} to new node: ({distance_matrix[i, j]} + {net_divergence[j]} - {net_divergence[i]}) / 2 = {round(height_j, 2)}\")\n",
    "\n",
    "        distance_matrix = update_distance_matrix(distance_matrix, i, j)\n",
    "        # Remove nodes i and j from the list and add the new node\n",
    "        nodes.pop(max(i, j))\n",
    "        nodes.pop(min(i, j))\n",
    "        nodes.append(new_node)\n",
    "        step += 1\n",
    "    \n",
    "    # Add the final edge between the last two remaining nodes\n",
    "    G.add_edge(nodes[0], nodes[1], weight=round(distance_matrix[0, 1], 2))\n",
    "    return G"
   ]
  },
  {
   "cell_type": "code",
   "execution_count": null,
   "id": "c474faff-e958-4e8d-b374-95493d2a0527",
   "metadata": {
    "tags": []
   },
   "outputs": [],
   "source": [
    "def plot_tree(G, labels):\n",
    "    \"\"\"\n",
    "    Plot the phylogenetic tree using NetworkX and Matplotlib.\n",
    "    Nodes are labeled with species names, and edge weights represent distances.\n",
    "    \"\"\"\n",
    "    pos = nx.spring_layout(G)\n",
    "    edge_labels = nx.get_edge_attributes(G, 'weight')\n",
    "    node_labels = {i: labels[i] for i in G.nodes if i < len(labels)}\n",
    "    nx.draw(G, pos, labels=node_labels, with_labels=True, node_size=500, node_color=\"skyblue\", font_size=10)\n",
    "    nx.draw_networkx_edge_labels(G, pos, edge_labels=edge_labels)\n",
    "    plt.show()"
   ]
  },
  {
   "cell_type": "code",
   "execution_count": null,
   "id": "27113b34-e7b3-45b9-a77c-3f287ceaccad",
   "metadata": {
    "tags": []
   },
   "outputs": [
    {
     "name": "stdout",
     "output_type": "stream",
     "text": [
      "Step 1:\n",
      "Current Distance Matrix:\n",
      "     0     1    2    3     4\n",
      "0  0.0   8.0  7.0  7.0   6.0\n",
      "1  8.0   0.0  7.0  9.0  10.0\n",
      "2  7.0   7.0  0.0  8.0   8.0\n",
      "3  7.0   9.0  8.0  0.0   5.0\n",
      "4  6.0  10.0  8.0  5.0   0.0\n",
      "Net Divergence:\n",
      "{0: 9.333333333333334, 1: 11.333333333333334, 2: 10.0, 3: 9.666666666666666, 4: 9.666666666666666}\n",
      "Adjusted Distances:\n",
      "           0          1          2          3          4\n",
      "0   0.000000 -12.666667 -12.333333 -12.000000 -13.000000\n",
      "1 -12.666667   0.000000 -14.333333 -12.000000 -11.000000\n",
      "2 -12.333333 -14.333333   0.000000 -11.666667 -11.666667\n",
      "3 -12.000000 -12.000000 -11.666667   0.000000 -14.333333\n",
      "4 -13.000000 -11.000000 -11.666667 -14.333333   0.000000\n",
      "Calculating height for new node:\n",
      "Height of node 1 to new node: (7.0 + 11.333333333333334 - 10.0) / 2 = 4.17\n",
      "Height of node 2 to new node: (7.0 + 10.0 - 11.333333333333334) / 2 = 2.83\n",
      "Step 2:\n",
      "Current Distance Matrix:\n",
      "     0    1    2    3\n",
      "0  0.0  7.0  6.0  4.0\n",
      "1  7.0  0.0  5.0  5.0\n",
      "2  6.0  5.0  0.0  5.5\n",
      "3  4.0  5.0  5.5  0.0\n",
      "Net Divergence:\n",
      "{0: 8.5, 1: 8.5, 2: 8.25, 3: 7.25}\n",
      "Adjusted Distances:\n",
      "       0      1      2      3\n",
      "0   0.00 -10.00 -10.75 -11.75\n",
      "1 -10.00   0.00 -11.75 -10.75\n",
      "2 -10.75 -11.75   0.00 -10.00\n",
      "3 -11.75 -10.75 -10.00   0.00\n",
      "Calculating height for new node:\n",
      "Height of node 0 to new node: (4.0 + 8.5 - 7.25) / 2 = 2.62\n",
      "Height of node 5 to new node: (4.0 + 7.25 - 8.5) / 2 = 1.38\n",
      "Step 3:\n",
      "Current Distance Matrix:\n",
      "     0     1     2\n",
      "0  0.0  5.00  4.00\n",
      "1  5.0  0.00  3.75\n",
      "2  4.0  3.75  0.00\n",
      "Net Divergence:\n",
      "{0: 9.0, 1: 8.75, 2: 7.75}\n",
      "Adjusted Distances:\n",
      "       0      1      2\n",
      "0   0.00 -12.75 -12.75\n",
      "1 -12.75   0.00 -12.75\n",
      "2 -12.75 -12.75   0.00\n",
      "Calculating height for new node:\n",
      "Height of node 3 to new node: (5.0 + 9.0 - 8.75) / 2 = 2.62\n",
      "Height of node 4 to new node: (5.0 + 8.75 - 9.0) / 2 = 2.38\n"
     ]
    },
    {
     "data": {
      "image/png": "[encoded data removed]",
      "text/plain": [
       "<Figure size 640x480 with 1 Axes>"
      ]
     },
     "metadata": {},
     "output_type": "display_data"
    }
   ],
   "source": [
    "G = neighbor_joining(distance_matrix.values)\n",
    "# Plot the resulting tree\n",
    "plot_tree(G, species)"
   ]
  },
  {
   "cell_type": "markdown",
   "id": "a65884e3-b921-453b-bdce-450c6ea4fe9e",
   "metadata": {
    "deletable": false,
    "editable": false,
    "nbgrader": {
     "cell_type": "markdown",
     "checksum": "c3cbf486d432eaf12630fdfbc4f71de8",
     "grade": false,
     "grade_id": "cell-v326v19b1njhfz3r",
     "locked": true,
     "schema_version": 3,
     "solution": false,
     "task": false
    }
   },
   "source": [
    "<div style=\"border-bottom: 2px solid;\"></div>"
   ]
  },
  {
   "cell_type": "markdown",
   "id": "2e376d09-c846-4ddb-aa75-8162212be7fe",
   "metadata": {
    "deletable": false,
    "editable": false,
    "nbgrader": {
     "cell_type": "markdown",
     "checksum": "314cf8c4ffcf7ed0a339394e3d27c70b",
     "grade": false,
     "grade_id": "cell-4f42719ykbl22010",
     "locked": true,
     "schema_version": 3,
     "solution": false,
     "task": false
    }
   },
   "source": [
    "<div style=\"border-bottom: 2px solid;\"></div>"
   ]
  }
 ],
 "metadata": {
  "kernelspec": {
   "display_name": "Python 3 (ipykernel)",
   "language": "python",
   "name": "python3"
  },
  "language_info": {
   "codemirror_mode": {
    "name": "ipython",
    "version": 3
   },
   "file_extension": ".py",
   "mimetype": "text/x-python",
   "name": "python",
   "nbconvert_exporter": "python",
   "pygments_lexer": "ipython3",
   "version": "3.11.5"
  }
 },
 "nbformat": 4,
 "nbformat_minor": 5
}
